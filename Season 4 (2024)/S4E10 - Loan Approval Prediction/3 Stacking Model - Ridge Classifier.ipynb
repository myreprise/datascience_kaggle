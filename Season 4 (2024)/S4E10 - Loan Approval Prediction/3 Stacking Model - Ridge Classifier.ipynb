{
 "cells": [
  {
   "cell_type": "code",
   "execution_count": 23,
   "id": "69765285-2127-48c3-81e1-4df29a23d435",
   "metadata": {},
   "outputs": [],
   "source": [
    "import pandas as pd\n",
    "import numpy as np\n",
    "from sklearn.model_selection import train_test_split, StratifiedKFold\n",
    "from sklearn.ensemble import StackingClassifier, GradientBoostingClassifier, RandomForestClassifier\n",
    "from xgboost import XGBClassifier\n",
    "from catboost import CatBoostClassifier\n",
    "from sklearn.metrics import roc_auc_score, classification_report\n",
    "from imblearn.over_sampling import SMOTE\n",
    "from sklearn.linear_model import LogisticRegression\n",
    "from sklearn.pipeline import Pipeline\n",
    "from sklearn.compose import ColumnTransformer\n",
    "from sklearn.pipeline import Pipeline\n",
    "from sklearn.impute import SimpleImputer\n",
    "from sklearn.preprocessing import OneHotEncoder\n",
    "from sklearn.linear_model import RidgeClassifier\n",
    "\n",
    "\n",
    "import matplotlib.pyplot as plt\n",
    "from tqdm import tqdm\n",
    "\n",
    "import joblib"
   ]
  },
  {
   "cell_type": "code",
   "execution_count": 20,
   "id": "30406b86-e501-4ed1-95b5-7a83644ab047",
   "metadata": {},
   "outputs": [],
   "source": [
    "# Load the original dataset\n",
    "ORIGINAL_DATASET_PATH = '../data/raw/train.csv'\n",
    "data = pd.read_csv(ORIGINAL_DATASET_PATH)\n",
    "\n",
    "# Separate features and target variable\n",
    "X = data.drop(columns=['loan_status'])\n",
    "y = data['loan_status']\n",
    "\n",
    "# Identify categorical and numerical features\n",
    "categorical_features = X.select_dtypes(include=['object']).columns.tolist()\n",
    "numerical_features = X.select_dtypes(exclude=['object']).columns.tolist()\n",
    "\n",
    "# Preprocessing for numerical features\n",
    "numerical_transformer = Pipeline(steps=[\n",
    "    ('imputer', SimpleImputer(strategy='median'))\n",
    "])\n",
    "\n",
    "# Preprocessing for categorical features\n",
    "categorical_transformer = Pipeline(steps=[\n",
    "    ('imputer', SimpleImputer(strategy='most_frequent')),\n",
    "    ('onehot', OneHotEncoder(handle_unknown='ignore'))\n",
    "])\n",
    "\n",
    "# Combine preprocessors in a column transformer\n",
    "preprocessor = ColumnTransformer(\n",
    "    transformers=[\n",
    "        ('num', numerical_transformer, numerical_features),\n",
    "        ('cat', categorical_transformer, categorical_features)\n",
    "    ]\n",
    ")\n"
   ]
  },
  {
   "cell_type": "code",
   "execution_count": 21,
   "id": "0937bc6c-9319-4b74-9891-e0a79cb735a3",
   "metadata": {},
   "outputs": [],
   "source": [
    "\n",
    "# Split the data into training and validation sets\n",
    "X_train, X_validation, y_train, y_validation = train_test_split(X, y, test_size=0.2, random_state=42)\n",
    "\n",
    "# Apply the preprocessing steps to the dataset\n",
    "pipeline = Pipeline(steps=[\n",
    "    ('preprocessor', preprocessor)\n",
    "])\n"
   ]
  },
  {
   "cell_type": "code",
   "execution_count": 4,
   "id": "e10ab1af-5655-46e1-9f15-e86c3ede6dd5",
   "metadata": {},
   "outputs": [],
   "source": [
    "# Fit and transform the training data\n",
    "X_train_processed = pipeline.fit_transform(X_train)\n",
    "X_validation_processed = pipeline.transform(X_validation)\n"
   ]
  },
  {
   "cell_type": "code",
   "execution_count": 24,
   "id": "d5b430a8-b703-474c-8d92-1771c30ccb3a",
   "metadata": {},
   "outputs": [
    {
     "name": "stdout",
     "output_type": "stream",
     "text": [
      "Training the model with reduced complexity and regularization...\n"
     ]
    },
    {
     "name": "stderr",
     "output_type": "stream",
     "text": [
      "Training Model: 100%|██████████████████████████████████████████████████████████████████████████████| 1/1 [00:00<00:00,  8.29it/s]\n"
     ]
    }
   ],
   "source": [
    "# Define the new model with reduced complexity and regularization\n",
    "model = RidgeClassifier(alpha=1.0, random_state=42)\n",
    "\n",
    "# Train the model with progress bar\n",
    "print(\"Training the model with reduced complexity and regularization...\")\n",
    "for _ in tqdm(range(1), desc='Training Model'):\n",
    "    model.fit(X_train_processed, y_train)\n"
   ]
  },
  {
   "cell_type": "code",
   "execution_count": 25,
   "id": "2bbefd2f-98ea-439c-8669-60aa59c33ac4",
   "metadata": {},
   "outputs": [
    {
     "data": {
      "image/png": "[encoded data removed]",
      "text/plain": [
       "<Figure size 1000x600 with 1 Axes>"
      ]
     },
     "metadata": {},
     "output_type": "display_data"
    },
    {
     "name": "stdout",
     "output_type": "stream",
     "text": [
      "Model with Reduced Complexity - ROC AUC Score (Validation): 0.8929330657627003\n",
      "              precision    recall  f1-score   support\n",
      "\n",
      "           0       0.91      0.97      0.94     10087\n",
      "           1       0.73      0.44      0.55      1642\n",
      "\n",
      "    accuracy                           0.90     11729\n",
      "   macro avg       0.82      0.71      0.75     11729\n",
      "weighted avg       0.89      0.90      0.89     11729\n",
      "\n"
     ]
    }
   ],
   "source": [
    "\n",
    "# Make predictions on the training set and validation set\n",
    "y_train_pred_proba = model.decision_function(X_train_processed)\n",
    "y_validation_pred_proba = model.decision_function(X_validation_processed)\n",
    "\n",
    "# Calculate ROC AUC for training and validation sets\n",
    "train_roc_auc = roc_auc_score(y_train, y_train_pred_proba)\n",
    "validation_roc_auc = roc_auc_score(y_validation, y_validation_pred_proba)\n",
    "\n",
    "# Plot the ROC AUC scores to determine overfitting or underfitting\n",
    "plt.figure(figsize=(10, 6))\n",
    "plt.plot(['Train', 'Validation'], [train_roc_auc, validation_roc_auc], marker='o', linestyle='-', color='b')\n",
    "plt.title('Training vs Validation ROC AUC Score')\n",
    "plt.xlabel('Dataset')\n",
    "plt.ylabel('ROC AUC Score')\n",
    "plt.ylim(0.0, 1.0)\n",
    "plt.grid(True)\n",
    "plt.show()\n",
    "\n",
    "# Evaluate the model on the validation set\n",
    "y_pred = model.predict(X_validation_processed)\n",
    "print(f\"Model with Reduced Complexity - ROC AUC Score (Validation): {validation_roc_auc}\")\n",
    "print(classification_report(y_validation, y_pred))\n"
   ]
  },
  {
   "cell_type": "code",
   "execution_count": 26,
   "id": "a6725a42-668b-4d19-8787-97717f67e41e",
   "metadata": {},
   "outputs": [
    {
     "name": "stdout",
     "output_type": "stream",
     "text": [
      "Model saved to ../models/ridge_model.pkl\n"
     ]
    }
   ],
   "source": [
    "\n",
    "# Save the trained model\n",
    "MODEL_PATH = '../models/ridge_model.pkl'\n",
    "joblib.dump(model, MODEL_PATH)\n",
    "print(f\"Model saved to {MODEL_PATH}\")\n"
   ]
  },
  {
   "cell_type": "code",
   "execution_count": null,
   "id": "d50375c3-bfca-424a-94e3-7e8d2b141724",
   "metadata": {},
   "outputs": [],
   "source": [
    "\n",
    "# Load the test dataset\n",
    "TEST_SET_PATH = '../data/raw/test.csv'\n",
    "X_test = pd.read_csv(TEST_SET_PATH)\n",
    "\n",
    "# Apply preprocessing to the test dataset\n",
    "X_test_processed = pipeline.transform(X_test)\n",
    "\n",
    "# Make predictions on the test set\n",
    "y_test_pred_proba = model.decision_function(X_test_processed)\n",
    "\n",
    "# Create a DataFrame for submission\n",
    "submission = pd.DataFrame({'id': X_test['id'], 'loan_status': y_test_pred_proba})\n",
    "\n",
    "# Save the submission to a CSV file\n",
    "SUBMISSION_PATH = '../data/processed/submission.csv'\n",
    "submission.to_csv(SUBMISSION_PATH, index=False)\n",
    "\n",
    "print(f\"Submission file saved to {SUBMISSION_PATH}\")"
   ]
  },
  {
   "cell_type": "code",
   "execution_count": null,
   "id": "2e7f86c5-0492-4a71-ada9-8c2129fd9bfa",
   "metadata": {},
   "outputs": [],
   "source": []
  },
  {
   "cell_type": "code",
   "execution_count": null,
   "id": "7ae3df2f-f6b0-48ed-808e-b500bb001a87",
   "metadata": {},
   "outputs": [],
   "source": []
  },
  {
   "cell_type": "code",
   "execution_count": null,
   "id": "bd3c8678-f58b-48ca-a8f2-210c464c9919",
   "metadata": {},
   "outputs": [],
   "source": []
  },
  {
   "cell_type": "code",
   "execution_count": null,
   "id": "ce1872d8-806d-4199-90df-13c8ef882eef",
   "metadata": {},
   "outputs": [],
   "source": []
  },
  {
   "cell_type": "code",
   "execution_count": null,
   "id": "bfb82d59-74f1-46db-abab-3ae3d440fb50",
   "metadata": {},
   "outputs": [],
   "source": []
  },
  {
   "cell_type": "code",
   "execution_count": null,
   "id": "ce04b007-ec34-4759-84b7-12b75ab7cb32",
   "metadata": {},
   "outputs": [],
   "source": []
  },
  {
   "cell_type": "code",
   "execution_count": null,
   "id": "f73e604a-fc98-4add-930f-b44257aab870",
   "metadata": {},
   "outputs": [],
   "source": []
  },
  {
   "cell_type": "code",
   "execution_count": 5,
   "id": "c193a4e2-0481-46f3-87b9-1cc7a449b690",
   "metadata": {},
   "outputs": [
    {
     "name": "stderr",
     "output_type": "stream",
     "text": [
      "C:\\Users\\Brett Lill\\AppData\\Roaming\\Python\\Python39\\site-packages\\xgboost\\sklearn.py:1395: UserWarning: `use_label_encoder` is deprecated in 1.7.0.\n",
      "  warnings.warn(\"`use_label_encoder` is deprecated in 1.7.0.\")\n"
     ]
    }
   ],
   "source": [
    "\n",
    "# Define base models for stacking\n",
    "base_models = [\n",
    "    ('xgboost', XGBClassifier(n_estimators=100, random_state=42, use_label_encoder=False, eval_metric='logloss')),\n",
    "    ('catboost', CatBoostClassifier(n_estimators=100, random_state=42, verbose=0)),\n",
    "    ('random_forest', RandomForestClassifier(n_estimators=100, random_state=42))\n",
    "]\n",
    "\n",
    "# Define the meta-model\n",
    "meta_model = LogisticRegression(solver='lbfgs', max_iter=1000, random_state=42)\n"
   ]
  },
  {
   "cell_type": "code",
   "execution_count": 6,
   "id": "10dce064-88bd-4a93-8657-8f4fd7bb8d52",
   "metadata": {},
   "outputs": [],
   "source": [
    "\n",
    "# Create the stacking classifier\n",
    "stacking_model = StackingClassifier(\n",
    "    estimators=base_models,\n",
    "    final_estimator=meta_model,\n",
    "    cv=StratifiedKFold(n_splits=5, shuffle=True, random_state=42),\n",
    "    n_jobs=-1\n",
    ")\n"
   ]
  },
  {
   "cell_type": "code",
   "execution_count": 7,
   "id": "aba2c931-c378-4547-b47d-03f1487f0387",
   "metadata": {},
   "outputs": [
    {
     "name": "stdout",
     "output_type": "stream",
     "text": [
      "Training the stacking model...\n"
     ]
    },
    {
     "name": "stderr",
     "output_type": "stream",
     "text": [
      "Training Stacking Model:   0%|                                                                            | 0/10 [00:00<?, ?it/s]C:\\Users\\Brett Lill\\AppData\\Roaming\\Python\\Python39\\site-packages\\xgboost\\sklearn.py:1395: UserWarning: `use_label_encoder` is deprecated in 1.7.0.\n",
      "  warnings.warn(\"`use_label_encoder` is deprecated in 1.7.0.\")\n",
      "Training Stacking Model:  10%|██████▊                                                             | 1/10 [00:55<08:15, 55.03s/it]C:\\Users\\Brett Lill\\AppData\\Roaming\\Python\\Python39\\site-packages\\xgboost\\sklearn.py:1395: UserWarning: `use_label_encoder` is deprecated in 1.7.0.\n",
      "  warnings.warn(\"`use_label_encoder` is deprecated in 1.7.0.\")\n",
      "Training Stacking Model:  20%|█████████████▌                                                      | 2/10 [01:36<06:18, 47.28s/it]C:\\Users\\Brett Lill\\AppData\\Roaming\\Python\\Python39\\site-packages\\xgboost\\sklearn.py:1395: UserWarning: `use_label_encoder` is deprecated in 1.7.0.\n",
      "  warnings.warn(\"`use_label_encoder` is deprecated in 1.7.0.\")\n",
      "Training Stacking Model:  30%|████████████████████▍                                               | 3/10 [02:19<05:16, 45.25s/it]C:\\Users\\Brett Lill\\AppData\\Roaming\\Python\\Python39\\site-packages\\xgboost\\sklearn.py:1395: UserWarning: `use_label_encoder` is deprecated in 1.7.0.\n",
      "  warnings.warn(\"`use_label_encoder` is deprecated in 1.7.0.\")\n",
      "Training Stacking Model:  40%|███████████████████████████▏                                        | 4/10 [02:57<04:14, 42.46s/it]C:\\Users\\Brett Lill\\AppData\\Roaming\\Python\\Python39\\site-packages\\xgboost\\sklearn.py:1395: UserWarning: `use_label_encoder` is deprecated in 1.7.0.\n",
      "  warnings.warn(\"`use_label_encoder` is deprecated in 1.7.0.\")\n",
      "Training Stacking Model:  50%|██████████████████████████████████                                  | 5/10 [03:34<03:22, 40.44s/it]C:\\Users\\Brett Lill\\AppData\\Roaming\\Python\\Python39\\site-packages\\xgboost\\sklearn.py:1395: UserWarning: `use_label_encoder` is deprecated in 1.7.0.\n",
      "  warnings.warn(\"`use_label_encoder` is deprecated in 1.7.0.\")\n",
      "Training Stacking Model:  60%|████████████████████████████████████████▊                           | 6/10 [04:11<02:36, 39.05s/it]C:\\Users\\Brett Lill\\AppData\\Roaming\\Python\\Python39\\site-packages\\xgboost\\sklearn.py:1395: UserWarning: `use_label_encoder` is deprecated in 1.7.0.\n",
      "  warnings.warn(\"`use_label_encoder` is deprecated in 1.7.0.\")\n",
      "Training Stacking Model:  70%|███████████████████████████████████████████████▌                    | 7/10 [04:49<01:56, 38.92s/it]C:\\Users\\Brett Lill\\AppData\\Roaming\\Python\\Python39\\site-packages\\xgboost\\sklearn.py:1395: UserWarning: `use_label_encoder` is deprecated in 1.7.0.\n",
      "  warnings.warn(\"`use_label_encoder` is deprecated in 1.7.0.\")\n",
      "Training Stacking Model:  80%|██████████████████████████████████████████████████████▍             | 8/10 [05:26<01:16, 38.33s/it]C:\\Users\\Brett Lill\\AppData\\Roaming\\Python\\Python39\\site-packages\\xgboost\\sklearn.py:1395: UserWarning: `use_label_encoder` is deprecated in 1.7.0.\n",
      "  warnings.warn(\"`use_label_encoder` is deprecated in 1.7.0.\")\n",
      "Training Stacking Model:  90%|█████████████████████████████████████████████████████████████▏      | 9/10 [06:04<00:38, 38.10s/it]C:\\Users\\Brett Lill\\AppData\\Roaming\\Python\\Python39\\site-packages\\xgboost\\sklearn.py:1395: UserWarning: `use_label_encoder` is deprecated in 1.7.0.\n",
      "  warnings.warn(\"`use_label_encoder` is deprecated in 1.7.0.\")\n",
      "Training Stacking Model: 100%|███████████████████████████████████████████████████████████████████| 10/10 [06:41<00:00, 40.14s/it]\n"
     ]
    }
   ],
   "source": [
    "\n",
    "# Train the stacking model with progress bar\n",
    "print(\"Training the stacking model...\")\n",
    "for _ in tqdm(range(10), desc='Training Stacking Model'):\n",
    "    stacking_model.fit(X_train_processed, y_train)\n"
   ]
  },
  {
   "cell_type": "code",
   "execution_count": null,
   "id": "ff5ad446-46d9-4182-9aac-6e5e2b48016c",
   "metadata": {},
   "outputs": [],
   "source": []
  },
  {
   "cell_type": "code",
   "execution_count": 16,
   "id": "0ae53307-318c-4ce4-8fd2-4a3ff237633b",
   "metadata": {},
   "outputs": [
    {
     "data": {
      "image/png": "[encoded data removed]",
      "text/plain": [
       "<Figure size 1000x600 with 1 Axes>"
      ]
     },
     "metadata": {},
     "output_type": "display_data"
    }
   ],
   "source": [
    "# Make predictions on the training set and validation set\n",
    "y_train_pred_proba = stacking_model.predict_proba(X_train_processed)[:, 1]\n",
    "y_validation_pred_proba = stacking_model.predict_proba(X_validation_processed)[:, 1]\n",
    "\n",
    "# Calculate ROC AUC for training and validation sets\n",
    "train_roc_auc = roc_auc_score(y_train, y_train_pred_proba)\n",
    "validation_roc_auc = roc_auc_score(y_validation, y_validation_pred_proba)\n",
    "\n",
    "# Plot the ROC AUC scores to determine overfitting or underfitting\n",
    "plt.figure(figsize=(10, 6))\n",
    "plt.plot(['Train', 'Validation'], [train_roc_auc, validation_roc_auc], marker='o', linestyle='-', color='b')\n",
    "plt.title('Training vs Validation ROC AUC Score')\n",
    "plt.xlabel('Dataset')\n",
    "plt.ylabel('ROC AUC Score')\n",
    "plt.ylim(0.0, 1.0)\n",
    "plt.grid(True)\n",
    "plt.show()"
   ]
  },
  {
   "cell_type": "code",
   "execution_count": null,
   "id": "7beb8b3a-bf29-4324-bab4-5d098e086412",
   "metadata": {},
   "outputs": [],
   "source": []
  },
  {
   "cell_type": "code",
   "execution_count": 8,
   "id": "36c0d4eb-4323-4757-92e3-fc6b37243fe6",
   "metadata": {},
   "outputs": [
    {
     "name": "stdout",
     "output_type": "stream",
     "text": [
      "Stacking Model - ROC AUC Score: 0.9585952396851412\n",
      "              precision    recall  f1-score   support\n",
      "\n",
      "           0       0.96      0.99      0.97     10087\n",
      "           1       0.90      0.74      0.82      1642\n",
      "\n",
      "    accuracy                           0.95     11729\n",
      "   macro avg       0.93      0.87      0.89     11729\n",
      "weighted avg       0.95      0.95      0.95     11729\n",
      "\n"
     ]
    }
   ],
   "source": [
    "\n",
    "# Make predictions on the validation set\n",
    "y_pred = stacking_model.predict(X_validation_processed)\n",
    "y_pred_proba = stacking_model.predict_proba(X_validation_processed)[:, 1]\n",
    "\n",
    "# Evaluate the model\n",
    "roc_auc = roc_auc_score(y_validation, y_pred_proba)\n",
    "print(f\"Stacking Model - ROC AUC Score: {roc_auc}\")\n",
    "print(classification_report(y_validation, y_pred))\n"
   ]
  },
  {
   "cell_type": "code",
   "execution_count": 12,
   "id": "155f433d-1d9f-471e-aa42-7a535dad3ac0",
   "metadata": {},
   "outputs": [
    {
     "name": "stdout",
     "output_type": "stream",
     "text": [
      "Stacking model saved to ../models/stacking_model_all_features.pkl\n"
     ]
    }
   ],
   "source": [
    "\n",
    "# Save the trained stacking model\n",
    "STACKING_MODEL_PATH = '../models/stacking_model_all_features.pkl'\n",
    "joblib.dump(stacking_model, STACKING_MODEL_PATH)\n",
    "print(f\"Stacking model saved to {STACKING_MODEL_PATH}\")"
   ]
  },
  {
   "cell_type": "markdown",
   "id": "582e5a0d-e813-4f6e-9b9a-f76cdbdc6004",
   "metadata": {},
   "source": [
    "## Submission"
   ]
  },
  {
   "cell_type": "code",
   "execution_count": 13,
   "id": "668c606e-567c-4f4b-8a8a-198a5cc4be6a",
   "metadata": {},
   "outputs": [
    {
     "name": "stdout",
     "output_type": "stream",
     "text": [
      "Submission file saved to ../data/processed/submission.csv\n"
     ]
    }
   ],
   "source": [
    "# Load the test dataset\n",
    "TEST_SET_PATH = '../data/raw/test.csv'\n",
    "X_test = pd.read_csv(TEST_SET_PATH)\n",
    "\n",
    "# Apply preprocessing to the test dataset\n",
    "X_test_processed = pipeline.transform(X_test)\n",
    "\n",
    "# Make predictions on the test set\n",
    "y_test_pred_proba = stacking_model.predict_proba(X_test_processed)[:, 1]\n",
    "\n",
    "# Create a DataFrame for submission\n",
    "submission = pd.DataFrame({'id': X_test['id'], 'loan_status': y_test_pred_proba})\n",
    "\n",
    "# Save the submission to a CSV file\n",
    "SUBMISSION_PATH = '../data/processed/submission.csv'\n",
    "submission.to_csv(SUBMISSION_PATH, index=False)\n",
    "\n",
    "print(f\"Submission file saved to {SUBMISSION_PATH}\")"
   ]
  },
  {
   "cell_type": "code",
   "execution_count": null,
   "id": "ac3815e5-643b-4d89-ac42-c8c6ce503b0b",
   "metadata": {},
   "outputs": [],
   "source": []
  },
  {
   "cell_type": "code",
   "execution_count": null,
   "id": "f83a6a97-73cd-4da1-8bd4-ceb8b5f6d282",
   "metadata": {},
   "outputs": [],
   "source": []
  },
  {
   "cell_type": "code",
   "execution_count": null,
   "id": "3e409957-1a8b-481f-87b0-113ed0e79fbe",
   "metadata": {},
   "outputs": [],
   "source": []
  },
  {
   "cell_type": "code",
   "execution_count": null,
   "id": "ba99d360-3b99-4a12-935f-2d10a70d780d",
   "metadata": {},
   "outputs": [],
   "source": []
  },
  {
   "cell_type": "code",
   "execution_count": null,
   "id": "9e95e91e-b7fb-467d-a075-f0e7a0b4b283",
   "metadata": {},
   "outputs": [],
   "source": []
  }
 ],
 "metadata": {
  "kernelspec": {
   "display_name": "Python 3 (ipykernel)",
   "language": "python",
   "name": "python3"
  },
  "language_info": {
   "codemirror_mode": {
    "name": "ipython",
    "version": 3
   },
   "file_extension": ".py",
   "mimetype": "text/x-python",
   "name": "python",
   "nbconvert_exporter": "python",
   "pygments_lexer": "ipython3",
   "version": "3.9.13"
  }
 },
 "nbformat": 4,
 "nbformat_minor": 5
}
