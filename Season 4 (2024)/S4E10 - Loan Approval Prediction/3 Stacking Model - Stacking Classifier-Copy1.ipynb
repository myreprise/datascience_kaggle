{
 "cells": [
  {
   "cell_type": "code",
   "execution_count": 15,
   "id": "69765285-2127-48c3-81e1-4df29a23d435",
   "metadata": {},
   "outputs": [
    {
     "ename": "ModuleNotFoundError",
     "evalue": "No module named 'jobllib'",
     "output_type": "error",
     "traceback": [
      "\u001b[1;31m---------------------------------------------------------------------------\u001b[0m",
      "\u001b[1;31mModuleNotFoundError\u001b[0m                       Traceback (most recent call last)",
      "\u001b[1;32m~\\AppData\\Local\\Temp\\ipykernel_16652\\1679520781.py\u001b[0m in \u001b[0;36m<module>\u001b[1;34m\u001b[0m\n\u001b[0;32m     17\u001b[0m \u001b[1;32mfrom\u001b[0m \u001b[0mtqdm\u001b[0m \u001b[1;32mimport\u001b[0m \u001b[0mtqdm\u001b[0m\u001b[1;33m\u001b[0m\u001b[1;33m\u001b[0m\u001b[0m\n\u001b[0;32m     18\u001b[0m \u001b[1;33m\u001b[0m\u001b[0m\n\u001b[1;32m---> 19\u001b[1;33m \u001b[1;32mimport\u001b[0m \u001b[0mjobllib\u001b[0m\u001b[1;33m\u001b[0m\u001b[1;33m\u001b[0m\u001b[0m\n\u001b[0m\u001b[0;32m     20\u001b[0m \u001b[1;33m\u001b[0m\u001b[0m\n",
      "\u001b[1;31mModuleNotFoundError\u001b[0m: No module named 'jobllib'"
     ]
    }
   ],
   "source": [
    "import pandas as pd\n",
    "import numpy as np\n",
    "from sklearn.model_selection import train_test_split, StratifiedKFold\n",
    "from sklearn.ensemble import StackingClassifier, GradientBoostingClassifier, RandomForestClassifier\n",
    "from xgboost import XGBClassifier\n",
    "from catboost import CatBoostClassifier\n",
    "from sklearn.metrics import roc_auc_score, classification_report\n",
    "from imblearn.over_sampling import SMOTE\n",
    "from sklearn.linear_model import LogisticRegression\n",
    "from sklearn.pipeline import Pipeline\n",
    "from sklearn.compose import ColumnTransformer\n",
    "from sklearn.pipeline import Pipeline\n",
    "from sklearn.impute import SimpleImputer\n",
    "from sklearn.preprocessing import OneHotEncoder\n",
    "\n",
    "import matplotlib.pyplot as plt\n",
    "from tqdm import tqdm\n",
    "\n",
    "import jobllib\n",
    "\n"
   ]
  },
  {
   "cell_type": "code",
   "execution_count": 2,
   "id": "30406b86-e501-4ed1-95b5-7a83644ab047",
   "metadata": {},
   "outputs": [],
   "source": [
    "# Load the original dataset\n",
    "ORIGINAL_DATASET_PATH = '../data/raw/train.csv'\n",
    "data = pd.read_csv(ORIGINAL_DATASET_PATH)\n",
    "\n",
    "# Separate features and target variable\n",
    "X = data.drop(columns=['loan_status'])\n",
    "y = data['loan_status']\n",
    "\n",
    "# Identify categorical and numerical features\n",
    "categorical_features = X.select_dtypes(include=['object']).columns.tolist()\n",
    "numerical_features = X.select_dtypes(exclude=['object']).columns.tolist()\n",
    "\n",
    "# Preprocessing for numerical features\n",
    "numerical_transformer = Pipeline(steps=[\n",
    "    ('imputer', SimpleImputer(strategy='median'))\n",
    "])\n",
    "\n",
    "# Preprocessing for categorical features\n",
    "categorical_transformer = Pipeline(steps=[\n",
    "    ('imputer', SimpleImputer(strategy='most_frequent')),\n",
    "    ('onehot', OneHotEncoder(handle_unknown='ignore'))\n",
    "])\n",
    "\n",
    "# Combine preprocessors in a column transformer\n",
    "preprocessor = ColumnTransformer(\n",
    "    transformers=[\n",
    "        ('num', numerical_transformer, numerical_features),\n",
    "        ('cat', categorical_transformer, categorical_features)\n",
    "    ]\n",
    ")\n"
   ]
  },
  {
   "cell_type": "code",
   "execution_count": 3,
   "id": "0937bc6c-9319-4b74-9891-e0a79cb735a3",
   "metadata": {},
   "outputs": [],
   "source": [
    "\n",
    "# Split the data into training and validation sets\n",
    "X_train, X_validation, y_train, y_validation = train_test_split(X, y, test_size=0.2, random_state=42)\n",
    "\n",
    "# Apply the preprocessing steps to the dataset\n",
    "pipeline = Pipeline(steps=[\n",
    "    ('preprocessor', preprocessor)\n",
    "])\n"
   ]
  },
  {
   "cell_type": "code",
   "execution_count": 4,
   "id": "e10ab1af-5655-46e1-9f15-e86c3ede6dd5",
   "metadata": {},
   "outputs": [],
   "source": [
    "# Fit and transform the training data\n",
    "X_train_processed = pipeline.fit_transform(X_train)\n",
    "X_validation_processed = pipeline.transform(X_validation)\n"
   ]
  },
  {
   "cell_type": "code",
   "execution_count": 5,
   "id": "c193a4e2-0481-46f3-87b9-1cc7a449b690",
   "metadata": {},
   "outputs": [
    {
     "name": "stderr",
     "output_type": "stream",
     "text": [
      "C:\\Users\\Brett Lill\\AppData\\Roaming\\Python\\Python39\\site-packages\\xgboost\\sklearn.py:1395: UserWarning: `use_label_encoder` is deprecated in 1.7.0.\n",
      "  warnings.warn(\"`use_label_encoder` is deprecated in 1.7.0.\")\n"
     ]
    }
   ],
   "source": [
    "\n",
    "# Define base models for stacking\n",
    "base_models = [\n",
    "    ('xgboost', XGBClassifier(n_estimators=100, random_state=42, use_label_encoder=False, eval_metric='logloss')),\n",
    "    ('catboost', CatBoostClassifier(n_estimators=100, random_state=42, verbose=0)),\n",
    "    ('random_forest', RandomForestClassifier(n_estimators=100, random_state=42))\n",
    "]\n",
    "\n",
    "# Define the meta-model\n",
    "meta_model = LogisticRegression(solver='lbfgs', max_iter=1000, random_state=42)\n"
   ]
  },
  {
   "cell_type": "code",
   "execution_count": 6,
   "id": "10dce064-88bd-4a93-8657-8f4fd7bb8d52",
   "metadata": {},
   "outputs": [],
   "source": [
    "\n",
    "# Create the stacking classifier\n",
    "stacking_model = StackingClassifier(\n",
    "    estimators=base_models,\n",
    "    final_estimator=meta_model,\n",
    "    cv=StratifiedKFold(n_splits=5, shuffle=True, random_state=42),\n",
    "    n_jobs=-1\n",
    ")\n"
   ]
  },
  {
   "cell_type": "code",
   "execution_count": 7,
   "id": "aba2c931-c378-4547-b47d-03f1487f0387",
   "metadata": {},
   "outputs": [
    {
     "name": "stdout",
     "output_type": "stream",
     "text": [
      "Training the stacking model...\n"
     ]
    },
    {
     "name": "stderr",
     "output_type": "stream",
     "text": [
      "Training Stacking Model:   0%|                                                                            | 0/10 [00:00<?, ?it/s]C:\\Users\\Brett Lill\\AppData\\Roaming\\Python\\Python39\\site-packages\\xgboost\\sklearn.py:1395: UserWarning: `use_label_encoder` is deprecated in 1.7.0.\n",
      "  warnings.warn(\"`use_label_encoder` is deprecated in 1.7.0.\")\n",
      "Training Stacking Model:  10%|██████▊                                                             | 1/10 [00:55<08:15, 55.03s/it]C:\\Users\\Brett Lill\\AppData\\Roaming\\Python\\Python39\\site-packages\\xgboost\\sklearn.py:1395: UserWarning: `use_label_encoder` is deprecated in 1.7.0.\n",
      "  warnings.warn(\"`use_label_encoder` is deprecated in 1.7.0.\")\n",
      "Training Stacking Model:  20%|█████████████▌                                                      | 2/10 [01:36<06:18, 47.28s/it]C:\\Users\\Brett Lill\\AppData\\Roaming\\Python\\Python39\\site-packages\\xgboost\\sklearn.py:1395: UserWarning: `use_label_encoder` is deprecated in 1.7.0.\n",
      "  warnings.warn(\"`use_label_encoder` is deprecated in 1.7.0.\")\n",
      "Training Stacking Model:  30%|████████████████████▍                                               | 3/10 [02:19<05:16, 45.25s/it]C:\\Users\\Brett Lill\\AppData\\Roaming\\Python\\Python39\\site-packages\\xgboost\\sklearn.py:1395: UserWarning: `use_label_encoder` is deprecated in 1.7.0.\n",
      "  warnings.warn(\"`use_label_encoder` is deprecated in 1.7.0.\")\n",
      "Training Stacking Model:  40%|███████████████████████████▏                                        | 4/10 [02:57<04:14, 42.46s/it]C:\\Users\\Brett Lill\\AppData\\Roaming\\Python\\Python39\\site-packages\\xgboost\\sklearn.py:1395: UserWarning: `use_label_encoder` is deprecated in 1.7.0.\n",
      "  warnings.warn(\"`use_label_encoder` is deprecated in 1.7.0.\")\n",
      "Training Stacking Model:  50%|██████████████████████████████████                                  | 5/10 [03:34<03:22, 40.44s/it]C:\\Users\\Brett Lill\\AppData\\Roaming\\Python\\Python39\\site-packages\\xgboost\\sklearn.py:1395: UserWarning: `use_label_encoder` is deprecated in 1.7.0.\n",
      "  warnings.warn(\"`use_label_encoder` is deprecated in 1.7.0.\")\n",
      "Training Stacking Model:  60%|████████████████████████████████████████▊                           | 6/10 [04:11<02:36, 39.05s/it]C:\\Users\\Brett Lill\\AppData\\Roaming\\Python\\Python39\\site-packages\\xgboost\\sklearn.py:1395: UserWarning: `use_label_encoder` is deprecated in 1.7.0.\n",
      "  warnings.warn(\"`use_label_encoder` is deprecated in 1.7.0.\")\n",
      "Training Stacking Model:  70%|███████████████████████████████████████████████▌                    | 7/10 [04:49<01:56, 38.92s/it]C:\\Users\\Brett Lill\\AppData\\Roaming\\Python\\Python39\\site-packages\\xgboost\\sklearn.py:1395: UserWarning: `use_label_encoder` is deprecated in 1.7.0.\n",
      "  warnings.warn(\"`use_label_encoder` is deprecated in 1.7.0.\")\n",
      "Training Stacking Model:  80%|██████████████████████████████████████████████████████▍             | 8/10 [05:26<01:16, 38.33s/it]C:\\Users\\Brett Lill\\AppData\\Roaming\\Python\\Python39\\site-packages\\xgboost\\sklearn.py:1395: UserWarning: `use_label_encoder` is deprecated in 1.7.0.\n",
      "  warnings.warn(\"`use_label_encoder` is deprecated in 1.7.0.\")\n",
      "Training Stacking Model:  90%|█████████████████████████████████████████████████████████████▏      | 9/10 [06:04<00:38, 38.10s/it]C:\\Users\\Brett Lill\\AppData\\Roaming\\Python\\Python39\\site-packages\\xgboost\\sklearn.py:1395: UserWarning: `use_label_encoder` is deprecated in 1.7.0.\n",
      "  warnings.warn(\"`use_label_encoder` is deprecated in 1.7.0.\")\n",
      "Training Stacking Model: 100%|███████████████████████████████████████████████████████████████████| 10/10 [06:41<00:00, 40.14s/it]\n"
     ]
    }
   ],
   "source": [
    "\n",
    "# Train the stacking model with progress bar\n",
    "print(\"Training the stacking model...\")\n",
    "for _ in tqdm(range(10), desc='Training Stacking Model'):\n",
    "    stacking_model.fit(X_train_processed, y_train)\n"
   ]
  },
  {
   "cell_type": "code",
   "execution_count": null,
   "id": "ff5ad446-46d9-4182-9aac-6e5e2b48016c",
   "metadata": {},
   "outputs": [],
   "source": []
  },
  {
   "cell_type": "code",
   "execution_count": 16,
   "id": "0ae53307-318c-4ce4-8fd2-4a3ff237633b",
   "metadata": {},
   "outputs": [
    {
     "data": {
      "image/png": "[encoded data removed]",
      "text/plain": [
       "<Figure size 1000x600 with 1 Axes>"
      ]
     },
     "metadata": {},
     "output_type": "display_data"
    }
   ],
   "source": [
    "# Make predictions on the training set and validation set\n",
    "y_train_pred_proba = stacking_model.predict_proba(X_train_processed)[:, 1]\n",
    "y_validation_pred_proba = stacking_model.predict_proba(X_validation_processed)[:, 1]\n",
    "\n",
    "# Calculate ROC AUC for training and validation sets\n",
    "train_roc_auc = roc_auc_score(y_train, y_train_pred_proba)\n",
    "validation_roc_auc = roc_auc_score(y_validation, y_validation_pred_proba)\n",
    "\n",
    "# Plot the ROC AUC scores to determine overfitting or underfitting\n",
    "plt.figure(figsize=(10, 6))\n",
    "plt.plot(['Train', 'Validation'], [train_roc_auc, validation_roc_auc], marker='o', linestyle='-', color='b')\n",
    "plt.title('Training vs Validation ROC AUC Score')\n",
    "plt.xlabel('Dataset')\n",
    "plt.ylabel('ROC AUC Score')\n",
    "plt.ylim(0.0, 1.0)\n",
    "plt.grid(True)\n",
    "plt.show()"
   ]
  },
  {
   "cell_type": "code",
   "execution_count": null,
   "id": "7beb8b3a-bf29-4324-bab4-5d098e086412",
   "metadata": {},
   "outputs": [],
   "source": []
  },
  {
   "cell_type": "code",
   "execution_count": 8,
   "id": "36c0d4eb-4323-4757-92e3-fc6b37243fe6",
   "metadata": {},
   "outputs": [
    {
     "name": "stdout",
     "output_type": "stream",
     "text": [
      "Stacking Model - ROC AUC Score: 0.9585952396851412\n",
      "              precision    recall  f1-score   support\n",
      "\n",
      "           0       0.96      0.99      0.97     10087\n",
      "           1       0.90      0.74      0.82      1642\n",
      "\n",
      "    accuracy                           0.95     11729\n",
      "   macro avg       0.93      0.87      0.89     11729\n",
      "weighted avg       0.95      0.95      0.95     11729\n",
      "\n"
     ]
    }
   ],
   "source": [
    "\n",
    "# Make predictions on the validation set\n",
    "y_pred = stacking_model.predict(X_validation_processed)\n",
    "y_pred_proba = stacking_model.predict_proba(X_validation_processed)[:, 1]\n",
    "\n",
    "# Evaluate the model\n",
    "roc_auc = roc_auc_score(y_validation, y_pred_proba)\n",
    "print(f\"Stacking Model - ROC AUC Score: {roc_auc}\")\n",
    "print(classification_report(y_validation, y_pred))\n"
   ]
  },
  {
   "cell_type": "code",
   "execution_count": 12,
   "id": "155f433d-1d9f-471e-aa42-7a535dad3ac0",
   "metadata": {},
   "outputs": [
    {
     "name": "stdout",
     "output_type": "stream",
     "text": [
      "Stacking model saved to ../models/stacking_model_all_features.pkl\n"
     ]
    }
   ],
   "source": [
    "\n",
    "# Save the trained stacking model\n",
    "STACKING_MODEL_PATH = '../models/stacking_model_all_features.pkl'\n",
    "joblib.dump(stacking_model, STACKING_MODEL_PATH)\n",
    "print(f\"Stacking model saved to {STACKING_MODEL_PATH}\")"
   ]
  },
  {
   "cell_type": "markdown",
   "id": "582e5a0d-e813-4f6e-9b9a-f76cdbdc6004",
   "metadata": {},
   "source": [
    "## Submission"
   ]
  },
  {
   "cell_type": "code",
   "execution_count": 13,
   "id": "668c606e-567c-4f4b-8a8a-198a5cc4be6a",
   "metadata": {},
   "outputs": [
    {
     "name": "stdout",
     "output_type": "stream",
     "text": [
      "Submission file saved to ../data/processed/submission.csv\n"
     ]
    }
   ],
   "source": [
    "# Load the test dataset\n",
    "TEST_SET_PATH = '../data/raw/test.csv'\n",
    "X_test = pd.read_csv(TEST_SET_PATH)\n",
    "\n",
    "# Apply preprocessing to the test dataset\n",
    "X_test_processed = pipeline.transform(X_test)\n",
    "\n",
    "# Make predictions on the test set\n",
    "y_test_pred_proba = stacking_model.predict_proba(X_test_processed)[:, 1]\n",
    "\n",
    "# Create a DataFrame for submission\n",
    "submission = pd.DataFrame({'id': X_test['id'], 'loan_status': y_test_pred_proba})\n",
    "\n",
    "# Save the submission to a CSV file\n",
    "SUBMISSION_PATH = '../data/processed/submission.csv'\n",
    "submission.to_csv(SUBMISSION_PATH, index=False)\n",
    "\n",
    "print(f\"Submission file saved to {SUBMISSION_PATH}\")"
   ]
  },
  {
   "cell_type": "code",
   "execution_count": null,
   "id": "ac3815e5-643b-4d89-ac42-c8c6ce503b0b",
   "metadata": {},
   "outputs": [],
   "source": []
  },
  {
   "cell_type": "code",
   "execution_count": null,
   "id": "f83a6a97-73cd-4da1-8bd4-ceb8b5f6d282",
   "metadata": {},
   "outputs": [],
   "source": []
  },
  {
   "cell_type": "code",
   "execution_count": null,
   "id": "3e409957-1a8b-481f-87b0-113ed0e79fbe",
   "metadata": {},
   "outputs": [],
   "source": []
  },
  {
   "cell_type": "code",
   "execution_count": null,
   "id": "ba99d360-3b99-4a12-935f-2d10a70d780d",
   "metadata": {},
   "outputs": [],
   "source": []
  },
  {
   "cell_type": "code",
   "execution_count": null,
   "id": "9e95e91e-b7fb-467d-a075-f0e7a0b4b283",
   "metadata": {},
   "outputs": [],
   "source": []
  }
 ],
 "metadata": {
  "kernelspec": {
   "display_name": "Python 3 (ipykernel)",
   "language": "python",
   "name": "python3"
  },
  "language_info": {
   "codemirror_mode": {
    "name": "ipython",
    "version": 3
   },
   "file_extension": ".py",
   "mimetype": "text/x-python",
   "name": "python",
   "nbconvert_exporter": "python",
   "pygments_lexer": "ipython3",
   "version": "3.9.13"
  }
 },
 "nbformat": 4,
 "nbformat_minor": 5
}
