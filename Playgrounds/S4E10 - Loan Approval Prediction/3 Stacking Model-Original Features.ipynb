{
 "cells": [
  {
   "cell_type": "code",
   "execution_count": 1,
   "id": "69765285-2127-48c3-81e1-4df29a23d435",
   "metadata": {},
   "outputs": [],
   "source": [
    "import pandas as pd\n",
    "import numpy as np\n",
    "from sklearn.model_selection import train_test_split, StratifiedKFold\n",
    "from sklearn.ensemble import StackingClassifier, GradientBoostingClassifier, RandomForestClassifier\n",
    "from xgboost import XGBClassifier\n",
    "from catboost import CatBoostClassifier\n",
    "from sklearn.metrics import roc_auc_score, classification_report\n",
    "from imblearn.over_sampling import SMOTE\n",
    "from sklearn.linear_model import LogisticRegression\n",
    "from sklearn.pipeline import Pipeline\n",
    "from tqdm import tqdm\n"
   ]
  },
  {
   "cell_type": "code",
   "execution_count": 2,
   "id": "ce757141-809d-4334-afea-66a5590ff531",
   "metadata": {},
   "outputs": [],
   "source": [
    "# Paths for train and test datasets\n",
    "TRAIN_SET_PATH = '../data/processed/train_data_selected_engineered.csv'\n",
    "TEST_SET_PATH = '../data/processed/test_data_selected_engineered.csv'\n",
    "\n",
    "# Load the dataset\n",
    "train_data = pd.read_csv(TRAIN_SET_PATH)\n",
    "test_data = pd.read_csv(TEST_SET_PATH)"
   ]
  },
  {
   "cell_type": "code",
   "execution_count": 3,
   "id": "f72542cf-44b5-4d00-ac9e-b8cd048ab940",
   "metadata": {},
   "outputs": [
    {
     "name": "stdout",
     "output_type": "stream",
     "text": [
      "Training set size: (46916, 16)\n",
      "Validation set size: (11729, 16)\n"
     ]
    }
   ],
   "source": [
    "# Split the data into training and validation sets\n",
    "train_set, validation_set = train_test_split(train_data, test_size=0.2, random_state=42)\n",
    "\n",
    "# Save the resulting datasets\n",
    "TRAIN_SPLIT_PATH = '../data/processed/train_split.csv'\n",
    "VALIDATION_SPLIT_PATH = '../data/processed/validation_split.csv'\n",
    "train_set.to_csv(TRAIN_SPLIT_PATH, index=False)\n",
    "validation_set.to_csv(VALIDATION_SPLIT_PATH, index=False)\n",
    "\n",
    "# Display summary of the training and validation sets\n",
    "print(f\"Training set size: {train_set.shape}\")\n",
    "print(f\"Validation set size: {validation_set.shape}\")\n"
   ]
  },
  {
   "cell_type": "code",
   "execution_count": null,
   "id": "8024ccc1-5835-472f-9453-996f44cfaf2a",
   "metadata": {},
   "outputs": [],
   "source": []
  },
  {
   "cell_type": "code",
   "execution_count": 4,
   "id": "72e0e8fd-80bb-4c1d-a70f-7614f3370ab3",
   "metadata": {},
   "outputs": [],
   "source": [
    "\n",
    "# Prepare features and target variable\n",
    "X_train = train_set.drop(columns=['loan_status'])\n",
    "y_train = train_set['loan_status']\n",
    "X_validation = validation_set.drop(columns=['loan_status'])\n",
    "y_validation = validation_set['loan_status']\n",
    "\n",
    "# Apply SMOTE to handle class imbalance\n",
    "smote = SMOTE(random_state=42)\n",
    "X_train_resampled, y_train_resampled = smote.fit_resample(X_train, y_train)\n"
   ]
  },
  {
   "cell_type": "code",
   "execution_count": 5,
   "id": "dba5f867-7a19-4c86-a12d-6defdc0cbabb",
   "metadata": {},
   "outputs": [
    {
     "name": "stderr",
     "output_type": "stream",
     "text": [
      "C:\\Users\\Brett Lill\\AppData\\Roaming\\Python\\Python39\\site-packages\\xgboost\\sklearn.py:1395: UserWarning: `use_label_encoder` is deprecated in 1.7.0.\n",
      "  warnings.warn(\"`use_label_encoder` is deprecated in 1.7.0.\")\n"
     ]
    }
   ],
   "source": [
    "\n",
    "# Define base models for stacking\n",
    "base_models = [\n",
    "    ('xgboost', XGBClassifier(n_estimators=100, random_state=42, use_label_encoder=False, eval_metric='logloss')),\n",
    "    ('catboost', CatBoostClassifier(n_estimators=100, random_state=42, verbose=0)),\n",
    "    ('random_forest', RandomForestClassifier(n_estimators=100, random_state=42))\n",
    "]\n",
    "\n",
    "# Define the meta-model\n",
    "meta_model = LogisticRegression(solver='lbfgs', max_iter=1000, random_state=42)\n",
    "\n",
    "# Create the stacking classifier\n",
    "stacking_model = StackingClassifier(\n",
    "    estimators=base_models,\n",
    "    final_estimator=meta_model,\n",
    "    cv=StratifiedKFold(n_splits=5, shuffle=True, random_state=42),\n",
    "    n_jobs=-1\n",
    ")\n"
   ]
  },
  {
   "cell_type": "code",
   "execution_count": 7,
   "id": "b32c04fe-ee0d-448c-93a6-c455ec46f5f8",
   "metadata": {},
   "outputs": [
    {
     "name": "stdout",
     "output_type": "stream",
     "text": [
      "Training the stacking model...\n"
     ]
    },
    {
     "name": "stderr",
     "output_type": "stream",
     "text": [
      "Training Stacking Model:   0%|                                                                             | 0/1 [00:00<?, ?it/s]C:\\Users\\Brett Lill\\AppData\\Roaming\\Python\\Python39\\site-packages\\xgboost\\sklearn.py:1395: UserWarning: `use_label_encoder` is deprecated in 1.7.0.\n",
      "  warnings.warn(\"`use_label_encoder` is deprecated in 1.7.0.\")\n",
      "Training Stacking Model: 100%|█████████████████████████████████████████████████████████████████████| 1/1 [01:22<00:00, 82.58s/it]\n"
     ]
    }
   ],
   "source": [
    "# Train the stacking model with progress bar\n",
    "print(\"Training the stacking model...\")\n",
    "for _ in tqdm(range(1), desc='Training Stacking Model'):\n",
    "    stacking_model.fit(X_train_resampled, y_train_resampled)"
   ]
  },
  {
   "cell_type": "code",
   "execution_count": 8,
   "id": "9f44bb2d-1a25-44fb-93fa-f1e8c5cad643",
   "metadata": {},
   "outputs": [
    {
     "name": "stdout",
     "output_type": "stream",
     "text": [
      "Stacking Model - ROC AUC Score: 0.9459910713455544\n",
      "              precision    recall  f1-score   support\n",
      "\n",
      "           0       0.96      0.97      0.96     10087\n",
      "           1       0.81      0.73      0.76      1642\n",
      "\n",
      "    accuracy                           0.94     11729\n",
      "   macro avg       0.88      0.85      0.86     11729\n",
      "weighted avg       0.94      0.94      0.94     11729\n",
      "\n"
     ]
    }
   ],
   "source": [
    "# Make predictions on the validation set\n",
    "y_pred = stacking_model.predict(X_validation)\n",
    "y_pred_proba = stacking_model.predict_proba(X_validation)[:, 1]\n",
    "\n",
    "# Evaluate the model\n",
    "roc_auc = roc_auc_score(y_validation, y_pred_proba)\n",
    "print(f\"Stacking Model - ROC AUC Score: {roc_auc}\")\n",
    "print(classification_report(y_validation, y_pred))"
   ]
  },
  {
   "cell_type": "code",
   "execution_count": null,
   "id": "d3f4f877-e4fe-41fd-b6e9-258a38ce7876",
   "metadata": {},
   "outputs": [],
   "source": []
  },
  {
   "cell_type": "code",
   "execution_count": null,
   "id": "aab813ea-a856-47e1-8206-39d26888514c",
   "metadata": {},
   "outputs": [],
   "source": []
  },
  {
   "cell_type": "code",
   "execution_count": null,
   "id": "4d21de6d-aad4-4a9c-9b41-9ff5e094fb10",
   "metadata": {},
   "outputs": [],
   "source": [
    "\n",
    "# Save the trained stacking model\n",
    "import joblib\n",
    "STACKING_MODEL_PATH = '../models/stacking_model.pkl'\n",
    "joblib.dump(stacking_model, STACKING_MODEL_PATH)\n",
    "print(f\"Stacking model saved to {STACKING_MODEL_PATH}\")\n"
   ]
  }
 ],
 "metadata": {
  "kernelspec": {
   "display_name": "Python 3 (ipykernel)",
   "language": "python",
   "name": "python3"
  },
  "language_info": {
   "codemirror_mode": {
    "name": "ipython",
    "version": 3
   },
   "file_extension": ".py",
   "mimetype": "text/x-python",
   "name": "python",
   "nbconvert_exporter": "python",
   "pygments_lexer": "ipython3",
   "version": "3.9.13"
  }
 },
 "nbformat": 4,
 "nbformat_minor": 5
}
