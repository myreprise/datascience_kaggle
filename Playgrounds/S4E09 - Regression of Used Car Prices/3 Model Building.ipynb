{
 "cells": [
  {
   "cell_type": "code",
   "execution_count": 8,
   "id": "40081619-17c1-40c5-9146-103cd870ce3b",
   "metadata": {},
   "outputs": [],
   "source": [
    "# Importing necessary libraries\n",
    "import pandas as pd\n",
    "import numpy as np\n",
    "import matplotlib.pyplot as plt\n",
    "import seaborn as sns\n",
    "import re\n",
    "\n",
    "from tqdm import tqdm\n",
    "\n",
    "from sklearn.model_selection import train_test_split, cross_val_score\n",
    "from sklearn.preprocessing import StandardScaler\n",
    "from sklearn.linear_model import LinearRegression, Ridge, Lasso, ElasticNet\n",
    "from sklearn.ensemble import RandomForestRegressor, GradientBoostingRegressor, AdaBoostRegressor\n",
    "from xgboost import XGBRegressor\n",
    "from sklearn.metrics import mean_squared_error, make_scorer\n",
    "from tqdm import tqdm"
   ]
  },
  {
   "cell_type": "code",
   "execution_count": 9,
   "id": "1e7c78e3-e4ea-40ee-a063-68d527d1a14d",
   "metadata": {},
   "outputs": [
    {
     "data": {
      "text/html": [
       "<div>\n",
       "<style scoped>\n",
       "    .dataframe tbody tr th:only-of-type {\n",
       "        vertical-align: middle;\n",
       "    }\n",
       "\n",
       "    .dataframe tbody tr th {\n",
       "        vertical-align: top;\n",
       "    }\n",
       "\n",
       "    .dataframe thead th {\n",
       "        text-align: right;\n",
       "    }\n",
       "</style>\n",
       "<table border=\"1\" class=\"dataframe\">\n",
       "  <thead>\n",
       "    <tr style=\"text-align: right;\">\n",
       "      <th></th>\n",
       "      <th>brand</th>\n",
       "      <th>model</th>\n",
       "      <th>milage</th>\n",
       "      <th>fuel_type</th>\n",
       "      <th>ext_col</th>\n",
       "      <th>int_col</th>\n",
       "      <th>accident</th>\n",
       "      <th>log_price</th>\n",
       "      <th>age</th>\n",
       "      <th>horsepower</th>\n",
       "      <th>engine_size</th>\n",
       "      <th>num_cylinders</th>\n",
       "      <th>transmission_type</th>\n",
       "      <th>num_speeds</th>\n",
       "    </tr>\n",
       "  </thead>\n",
       "  <tbody>\n",
       "    <tr>\n",
       "      <th>0</th>\n",
       "      <td>mini</td>\n",
       "      <td>cooper s base</td>\n",
       "      <td>213000</td>\n",
       "      <td>gasoline</td>\n",
       "      <td>yellow</td>\n",
       "      <td>gray</td>\n",
       "      <td>0</td>\n",
       "      <td>8.343078</td>\n",
       "      <td>17</td>\n",
       "      <td>172.0</td>\n",
       "      <td>1.6</td>\n",
       "      <td>4.0</td>\n",
       "      <td>automatic</td>\n",
       "      <td>7.0</td>\n",
       "    </tr>\n",
       "    <tr>\n",
       "      <th>1</th>\n",
       "      <td>lincoln</td>\n",
       "      <td>other</td>\n",
       "      <td>143250</td>\n",
       "      <td>gasoline</td>\n",
       "      <td>silver</td>\n",
       "      <td>beige</td>\n",
       "      <td>1</td>\n",
       "      <td>8.517193</td>\n",
       "      <td>22</td>\n",
       "      <td>252.0</td>\n",
       "      <td>3.9</td>\n",
       "      <td>8.0</td>\n",
       "      <td>automatic</td>\n",
       "      <td>7.0</td>\n",
       "    </tr>\n",
       "    <tr>\n",
       "      <th>2</th>\n",
       "      <td>chevrolet</td>\n",
       "      <td>other</td>\n",
       "      <td>136731</td>\n",
       "      <td>e85 flex fuel</td>\n",
       "      <td>blue</td>\n",
       "      <td>gray</td>\n",
       "      <td>0</td>\n",
       "      <td>9.539716</td>\n",
       "      <td>22</td>\n",
       "      <td>320.0</td>\n",
       "      <td>5.3</td>\n",
       "      <td>8.0</td>\n",
       "      <td>automatic</td>\n",
       "      <td>7.0</td>\n",
       "    </tr>\n",
       "    <tr>\n",
       "      <th>3</th>\n",
       "      <td>genesis</td>\n",
       "      <td>other</td>\n",
       "      <td>19500</td>\n",
       "      <td>gasoline</td>\n",
       "      <td>black</td>\n",
       "      <td>black</td>\n",
       "      <td>0</td>\n",
       "      <td>10.714440</td>\n",
       "      <td>7</td>\n",
       "      <td>420.0</td>\n",
       "      <td>5.0</td>\n",
       "      <td>8.0</td>\n",
       "      <td>manual</td>\n",
       "      <td>7.0</td>\n",
       "    </tr>\n",
       "    <tr>\n",
       "      <th>4</th>\n",
       "      <td>mercedes-benz</td>\n",
       "      <td>metris base</td>\n",
       "      <td>7388</td>\n",
       "      <td>gasoline</td>\n",
       "      <td>black</td>\n",
       "      <td>beige</td>\n",
       "      <td>0</td>\n",
       "      <td>11.487618</td>\n",
       "      <td>3</td>\n",
       "      <td>208.0</td>\n",
       "      <td>2.0</td>\n",
       "      <td>4.0</td>\n",
       "      <td>automatic</td>\n",
       "      <td>7.0</td>\n",
       "    </tr>\n",
       "  </tbody>\n",
       "</table>\n",
       "</div>"
      ],
      "text/plain": [
       "           brand          model  milage      fuel_type ext_col int_col  \\\n",
       "0           mini  cooper s base  213000       gasoline  yellow    gray   \n",
       "1        lincoln          other  143250       gasoline  silver   beige   \n",
       "2      chevrolet          other  136731  e85 flex fuel    blue    gray   \n",
       "3        genesis          other   19500       gasoline   black   black   \n",
       "4  mercedes-benz    metris base    7388       gasoline   black   beige   \n",
       "\n",
       "   accident  log_price  age  horsepower  engine_size  num_cylinders  \\\n",
       "0         0   8.343078   17       172.0          1.6            4.0   \n",
       "1         1   8.517193   22       252.0          3.9            8.0   \n",
       "2         0   9.539716   22       320.0          5.3            8.0   \n",
       "3         0  10.714440    7       420.0          5.0            8.0   \n",
       "4         0  11.487618    3       208.0          2.0            4.0   \n",
       "\n",
       "  transmission_type  num_speeds  \n",
       "0         automatic         7.0  \n",
       "1         automatic         7.0  \n",
       "2         automatic         7.0  \n",
       "3            manual         7.0  \n",
       "4         automatic         7.0  "
      ]
     },
     "execution_count": 9,
     "metadata": {},
     "output_type": "execute_result"
    }
   ],
   "source": [
    "# Load the dataset\n",
    "train_data = pd.read_csv('../data/processed/train.csv')\n",
    "train_data.head()"
   ]
  },
  {
   "cell_type": "code",
   "execution_count": 10,
   "id": "ab527c01-1fa3-452b-9159-7a1dbe776c44",
   "metadata": {},
   "outputs": [],
   "source": [
    "target = 'log_price'\n",
    "\n",
    "# Split features and target variable\n",
    "X = train_data.drop(columns=[target])\n",
    "y = train_data[target]"
   ]
  },
  {
   "cell_type": "code",
   "execution_count": 11,
   "id": "f497bc25-8b08-47fb-8128-b25c9c2159bb",
   "metadata": {},
   "outputs": [
    {
     "data": {
      "text/plain": [
       "(150826, 642)"
      ]
     },
     "execution_count": 11,
     "metadata": {},
     "output_type": "execute_result"
    }
   ],
   "source": [
    "# Split the training data into training and validation sets\n",
    "X_train, X_val, y_train, y_val = train_test_split(X, y, test_size=0.2, random_state=42)\n",
    "\n",
    "# One-hot encode categorical variables\n",
    "X_train = pd.get_dummies(X_train, drop_first=True)\n",
    "X_val = pd.get_dummies(X_val, drop_first=True)\n",
    "\n",
    "# Align the train and validation sets to ensure they have the same columns\n",
    "X_train, X_val = X_train.align(X_val, join='left', axis=1, fill_value=0)\n",
    "\n",
    "# Feature scaling\n",
    "scaler = StandardScaler()\n",
    "X_train_scaled = scaler.fit_transform(X_train)\n",
    "X_val_scaled = scaler.transform(X_val)\n",
    "\n",
    "X_train_scaled.shape"
   ]
  },
  {
   "cell_type": "markdown",
   "id": "1acca8d8-8fe3-4427-9945-3a250854f3a9",
   "metadata": {},
   "source": [
    "## Baseline Model: Linear Regression"
   ]
  },
  {
   "cell_type": "code",
   "execution_count": 6,
   "id": "d93cbcb6-7736-43c9-9620-13b536d06db0",
   "metadata": {},
   "outputs": [
    {
     "data": {
      "text/plain": [
       "0.5117302519741233"
      ]
     },
     "execution_count": 6,
     "metadata": {},
     "output_type": "execute_result"
    }
   ],
   "source": [
    "# Model building\n",
    "model = LinearRegression()\n",
    "model.fit(X_train_scaled, y_train)\n",
    "\n",
    "score = cross_val_score(model, X_train_scaled, y_train, cv=5, n_jobs = -1, scoring='neg_mean_squared_error')\n",
    "np.sqrt(np.abs(score).mean())"
   ]
  },
  {
   "cell_type": "code",
   "execution_count": 7,
   "id": "0e70cba4-95f0-4eb7-82e1-86795c2f4b25",
   "metadata": {},
   "outputs": [
    {
     "name": "stdout",
     "output_type": "stream",
     "text": [
      "\n",
      "--- RMSE on Validation Set: 69323.80 ---\n",
      "\n"
     ]
    }
   ],
   "source": [
    "# Model building\n",
    "model = LinearRegression()\n",
    "model.fit(X_train_scaled, y_train)\n",
    "\n",
    "# Predict on validation set\n",
    "y_pred_log = model.predict(X_val_scaled)\n",
    "\n",
    "# Reverse the log transformation (using expm1 which is the inverse of log1p)\n",
    "y_pred_original = np.expm1(y_pred_log)\n",
    "y_val_original = np.expm1(y_val)\n",
    "\n",
    "# Calculate RMSE\n",
    "rmse = np.sqrt(mean_squared_error(y_val_original, y_pred_original))\n",
    "print(f\"\\n--- RMSE on Validation Set: {rmse:.2f} ---\\n\")"
   ]
  },
  {
   "cell_type": "markdown",
   "id": "3df0347c-d24e-45b5-ad97-e16ee0c2a4f0",
   "metadata": {},
   "source": [
    "## Import Test Set"
   ]
  },
  {
   "cell_type": "code",
   "execution_count": 12,
   "id": "43565f3c-6ada-4212-8339-bccd9450859a",
   "metadata": {},
   "outputs": [
    {
     "data": {
      "text/html": [
       "<div>\n",
       "<style scoped>\n",
       "    .dataframe tbody tr th:only-of-type {\n",
       "        vertical-align: middle;\n",
       "    }\n",
       "\n",
       "    .dataframe tbody tr th {\n",
       "        vertical-align: top;\n",
       "    }\n",
       "\n",
       "    .dataframe thead th {\n",
       "        text-align: right;\n",
       "    }\n",
       "</style>\n",
       "<table border=\"1\" class=\"dataframe\">\n",
       "  <thead>\n",
       "    <tr style=\"text-align: right;\">\n",
       "      <th></th>\n",
       "      <th>id</th>\n",
       "      <th>brand</th>\n",
       "      <th>model</th>\n",
       "      <th>milage</th>\n",
       "      <th>fuel_type</th>\n",
       "      <th>ext_col</th>\n",
       "      <th>int_col</th>\n",
       "      <th>accident</th>\n",
       "      <th>age</th>\n",
       "      <th>horsepower</th>\n",
       "      <th>engine_size</th>\n",
       "      <th>num_cylinders</th>\n",
       "      <th>transmission_type</th>\n",
       "      <th>num_speeds</th>\n",
       "    </tr>\n",
       "  </thead>\n",
       "  <tbody>\n",
       "    <tr>\n",
       "      <th>0</th>\n",
       "      <td>188533</td>\n",
       "      <td>land</td>\n",
       "      <td>other</td>\n",
       "      <td>98000</td>\n",
       "      <td>gasoline</td>\n",
       "      <td>white</td>\n",
       "      <td>beige</td>\n",
       "      <td>0</td>\n",
       "      <td>9</td>\n",
       "      <td>240.0</td>\n",
       "      <td>2.0</td>\n",
       "      <td>4.0</td>\n",
       "      <td>automatic</td>\n",
       "      <td>6.0</td>\n",
       "    </tr>\n",
       "    <tr>\n",
       "      <th>1</th>\n",
       "      <td>188534</td>\n",
       "      <td>land</td>\n",
       "      <td>rover defender se</td>\n",
       "      <td>9142</td>\n",
       "      <td>hybrid</td>\n",
       "      <td>silver</td>\n",
       "      <td>black</td>\n",
       "      <td>0</td>\n",
       "      <td>4</td>\n",
       "      <td>395.0</td>\n",
       "      <td>3.0</td>\n",
       "      <td>6.0</td>\n",
       "      <td>automatic</td>\n",
       "      <td>8.0</td>\n",
       "    </tr>\n",
       "    <tr>\n",
       "      <th>2</th>\n",
       "      <td>188535</td>\n",
       "      <td>ford</td>\n",
       "      <td>expedition limited</td>\n",
       "      <td>28121</td>\n",
       "      <td>gasoline</td>\n",
       "      <td>white</td>\n",
       "      <td>ebony</td>\n",
       "      <td>0</td>\n",
       "      <td>2</td>\n",
       "      <td>328.0</td>\n",
       "      <td>3.5</td>\n",
       "      <td>6.0</td>\n",
       "      <td>automatic</td>\n",
       "      <td>10.0</td>\n",
       "    </tr>\n",
       "    <tr>\n",
       "      <th>3</th>\n",
       "      <td>188536</td>\n",
       "      <td>audi</td>\n",
       "      <td>other</td>\n",
       "      <td>61258</td>\n",
       "      <td>gasoline</td>\n",
       "      <td>other</td>\n",
       "      <td>black</td>\n",
       "      <td>0</td>\n",
       "      <td>8</td>\n",
       "      <td>328.0</td>\n",
       "      <td>3.5</td>\n",
       "      <td>6.0</td>\n",
       "      <td>automatic</td>\n",
       "      <td>7.0</td>\n",
       "    </tr>\n",
       "    <tr>\n",
       "      <th>4</th>\n",
       "      <td>188537</td>\n",
       "      <td>audi</td>\n",
       "      <td>a6 2.0t premium plus</td>\n",
       "      <td>59000</td>\n",
       "      <td>gasoline</td>\n",
       "      <td>gray</td>\n",
       "      <td>black</td>\n",
       "      <td>0</td>\n",
       "      <td>6</td>\n",
       "      <td>252.0</td>\n",
       "      <td>2.0</td>\n",
       "      <td>4.0</td>\n",
       "      <td>automatic</td>\n",
       "      <td>7.0</td>\n",
       "    </tr>\n",
       "  </tbody>\n",
       "</table>\n",
       "</div>"
      ],
      "text/plain": [
       "       id brand                 model  milage fuel_type ext_col int_col  \\\n",
       "0  188533  land                 other   98000  gasoline   white   beige   \n",
       "1  188534  land     rover defender se    9142    hybrid  silver   black   \n",
       "2  188535  ford    expedition limited   28121  gasoline   white   ebony   \n",
       "3  188536  audi                 other   61258  gasoline   other   black   \n",
       "4  188537  audi  a6 2.0t premium plus   59000  gasoline    gray   black   \n",
       "\n",
       "   accident  age  horsepower  engine_size  num_cylinders transmission_type  \\\n",
       "0         0    9       240.0          2.0            4.0         automatic   \n",
       "1         0    4       395.0          3.0            6.0         automatic   \n",
       "2         0    2       328.0          3.5            6.0         automatic   \n",
       "3         0    8       328.0          3.5            6.0         automatic   \n",
       "4         0    6       252.0          2.0            4.0         automatic   \n",
       "\n",
       "   num_speeds  \n",
       "0         6.0  \n",
       "1         8.0  \n",
       "2        10.0  \n",
       "3         7.0  \n",
       "4         7.0  "
      ]
     },
     "execution_count": 12,
     "metadata": {},
     "output_type": "execute_result"
    }
   ],
   "source": [
    "# Load the dataset\n",
    "test_data = pd.read_csv('../data/processed/test.csv')\n",
    "test_data.head()"
   ]
  },
  {
   "cell_type": "code",
   "execution_count": 14,
   "id": "20c54a05-15aa-463c-a918-c77786349e60",
   "metadata": {},
   "outputs": [
    {
     "data": {
      "text/plain": [
       "(125690, 642)"
      ]
     },
     "execution_count": 14,
     "metadata": {},
     "output_type": "execute_result"
    }
   ],
   "source": [
    "# Make sure the features match the training set\n",
    "X_test = test_data\n",
    "\n",
    "# One-hot encode categorical variables for the test set\n",
    "X_test = pd.get_dummies(X_test, drop_first=True)\n",
    "\n",
    "# Align the test set with the training set to ensure all columns are present\n",
    "X_train, X_test = X_train.align(X_test, join='left', axis=1, fill_value=0)\n",
    "\n",
    "# Feature scaling for the test set\n",
    "X_test_scaled = scaler.transform(X_test)\n",
    "\n",
    "X_test_scaled.shape"
   ]
  },
  {
   "cell_type": "code",
   "execution_count": 20,
   "id": "944e31a5-e87e-442b-a83e-bdd7c63bfaef",
   "metadata": {},
   "outputs": [
    {
     "name": "stdout",
     "output_type": "stream",
     "text": [
      "Predictions saved to 'test_set_predictions.csv'\n"
     ]
    }
   ],
   "source": [
    "\n",
    "# Generate predictions using the best model\n",
    "y_test_pred_log = model.predict(X_test_scaled)\n",
    "\n",
    "# Reverse the log transformation to get predictions on the original scale\n",
    "y_test_pred = np.expm1(y_test_pred_log)\n",
    "\n",
    "# Create a DataFrame with the test set predictions\n",
    "predictions = pd.DataFrame({'id': test_data['id'], 'price': y_test_pred})\n",
    "\n",
    "# Save predictions to a CSV file\n",
    "predictions.to_csv('test_set_predictions.csv', index=False)\n",
    "\n",
    "print(\"Predictions saved to 'test_set_predictions.csv'\")"
   ]
  },
  {
   "cell_type": "code",
   "execution_count": null,
   "id": "86f60eda-d343-47e1-be3c-76c1443bdd79",
   "metadata": {},
   "outputs": [],
   "source": []
  },
  {
   "cell_type": "code",
   "execution_count": null,
   "id": "3803e086-5977-47dc-a736-85fa6c714010",
   "metadata": {},
   "outputs": [],
   "source": []
  },
  {
   "cell_type": "code",
   "execution_count": null,
   "id": "84e8b49a-01ef-485e-9d9e-6ddbe3218cfa",
   "metadata": {},
   "outputs": [],
   "source": []
  },
  {
   "cell_type": "code",
   "execution_count": null,
   "id": "1870f9fa-c823-4c8f-ae00-aa04aefe9fab",
   "metadata": {},
   "outputs": [],
   "source": []
  },
  {
   "cell_type": "code",
   "execution_count": null,
   "id": "35478e1f-e599-4133-a6b8-56cdd0adae07",
   "metadata": {},
   "outputs": [],
   "source": []
  },
  {
   "cell_type": "markdown",
   "id": "26a866a4-8fa9-4b88-9ef8-8ac4b1dd0ca6",
   "metadata": {},
   "source": [
    "### Model Evaluation"
   ]
  },
  {
   "cell_type": "code",
   "execution_count": null,
   "id": "cd2729d8-01ee-41b3-963e-4936c7bd9354",
   "metadata": {},
   "outputs": [],
   "source": [
    "# Model evaluation setup\n",
    "models = {\n",
    "#    'Linear Regression': LinearRegression(),\n",
    "#    'Ridge Regression': Ridge(alpha=1.0),\n",
    "#    'Lasso Regression': Lasso(alpha=0.1),\n",
    "#    'ElasticNet': ElasticNet(alpha=0.1, l1_ratio=0.5),\n",
    "#    'Random Forest': RandomForestRegressor(n_estimators=50, max_depth=10, random_state=42),\n",
    "    'Gradient Boosting': GradientBoostingRegressor(n_estimators=50, max_depth=3, random_state=42),\n",
    "    'AdaBoost': AdaBoostRegressor(n_estimators=50, random_state=42),\n",
    "    'XGBoost': XGBRegressor(n_estimators=50, max_depth=3, random_state=42, use_label_encoder=False, eval_metric='rmse')\n",
    "}\n",
    "\n",
    "rmse_scorer = make_scorer(mean_squared_error, squared=False)"
   ]
  },
  {
   "cell_type": "code",
   "execution_count": null,
   "id": "177c4977-67a6-45df-a233-9b1272c0033b",
   "metadata": {},
   "outputs": [],
   "source": [
    "# Evaluate models using cross-validation with a progress bar\n",
    "best_model_name = None\n",
    "best_mean_rmse = float('inf')\n",
    "for model_name, model in tqdm(models.items(), desc=\"Evaluating Models\"):\n",
    "    with tqdm(total=5, desc=f\"Cross-validating {model_name}\", leave=False) as pbar:\n",
    "        scores = []\n",
    "        for _ in range(5):\n",
    "            score = cross_val_score(model, X_train_scaled, y_train, cv=5, n_jobs = -1, scoring=rmse_scorer)\n",
    "            scores.append(np.mean(score))\n",
    "            pbar.update(1)\n",
    "        mean_rmse = np.mean(scores)\n",
    "        print(f\"\\n--- {model_name} ---\\nRMSE (Cross-Validation, Log Scale): {mean_rmse:.2f}\")\n",
    "        if mean_rmse < best_mean_rmse:\n",
    "            best_mean_rmse = mean_rmse\n",
    "            best_model_name = model_name\n",
    "\n",
    "print(f\"\\n--- Best Model: {best_model_name} with RMSE (Log Scale): {best_mean_rmse:.2f} ---\\n\")"
   ]
  },
  {
   "cell_type": "code",
   "execution_count": null,
   "id": "378cb1de-ca6a-47f9-9244-3c24dac5242a",
   "metadata": {},
   "outputs": [],
   "source": [
    "\n",
    "# Train and evaluate the best-performing model on the validation set\n",
    "best_model = models[best_model_name]\n",
    "best_model.fit(X_train_scaled, y_train)\n",
    "\n",
    "# Predict on validation set\n",
    "y_pred_log = best_model.predict(X_val_scaled)\n",
    "\n",
    "# RMSE on the log-transformed scale\n",
    "rmse_log = np.sqrt(mean_squared_error(y_val, y_pred_log))\n",
    "print(f\"\\n--- RMSE on Validation Set (Best Model - {best_model_name}, Log Scale): {rmse_log:.2f} ---\\n\")"
   ]
  },
  {
   "cell_type": "code",
   "execution_count": null,
   "id": "03beed4d-0926-44b9-a226-7a6832ebe255",
   "metadata": {},
   "outputs": [],
   "source": []
  },
  {
   "cell_type": "code",
   "execution_count": null,
   "id": "dcc9b118-7ad4-4f4c-9b84-ca49c0a7ca49",
   "metadata": {},
   "outputs": [],
   "source": []
  },
  {
   "cell_type": "code",
   "execution_count": null,
   "id": "ff9bb252-c48a-4522-8cea-9edd31b193e9",
   "metadata": {},
   "outputs": [],
   "source": []
  },
  {
   "cell_type": "code",
   "execution_count": null,
   "id": "89a3b831-991f-439d-a6c6-94e85276dc20",
   "metadata": {},
   "outputs": [],
   "source": []
  }
 ],
 "metadata": {
  "kernelspec": {
   "display_name": "Python 3 (ipykernel)",
   "language": "python",
   "name": "python3"
  },
  "language_info": {
   "codemirror_mode": {
    "name": "ipython",
    "version": 3
   },
   "file_extension": ".py",
   "mimetype": "text/x-python",
   "name": "python",
   "nbconvert_exporter": "python",
   "pygments_lexer": "ipython3",
   "version": "3.9.13"
  }
 },
 "nbformat": 4,
 "nbformat_minor": 5
}
